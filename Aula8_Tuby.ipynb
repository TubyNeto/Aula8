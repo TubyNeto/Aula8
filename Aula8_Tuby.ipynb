{
 "cells": [
  {
   "cell_type": "code",
   "execution_count": 10,
   "metadata": {},
   "outputs": [
    {
     "name": "stdout",
     "output_type": "stream",
     "text": [
      "[-3.  5. -0.]\n"
     ]
    }
   ],
   "source": [
    "import numpy as np\n",
    "\n",
    "def func(a, b):\n",
    "    s=0\n",
    "    n=len(a)\n",
    "    x=np.zeros(3)\n",
    "    for k in range(n-1, -1, -1):\n",
    "        s=0\n",
    "        for j in range(k+1, n, 1):\n",
    "            s=s+a[k][j]*x[j]\n",
    "        x[k]=(b[k]-s)/a[k][k]            \n",
    "    \n",
    "    \n",
    "    return x\n",
    "            \n",
    "\n",
    "    \n",
    "a=np.array([[3, 2, 4], [0, 1/3, 2/3], [0, 0, -8]])\n",
    "b=np.array([1, 5/3, 0])\n",
    "print(func(a, b))\n"
   ]
  },
  {
   "cell_type": "code",
   "execution_count": 13,
   "metadata": {},
   "outputs": [
    {
     "name": "stdout",
     "output_type": "stream",
     "text": [
      "Matriz:\n",
      " [[ 2  1 -3]\n",
      " [-1  3  2]\n",
      " [ 3  1 -3]]\n",
      "Tranformação em Triangular Superior:\n",
      " [[ 2  1 -3]\n",
      " [ 0  3  0]\n",
      " [ 0  0  1]]\n",
      "Solucao:  [0.83333333 3.33333333 2.        ]\n"
     ]
    }
   ],
   "source": [
    "import numpy as np\n",
    "\n",
    "def func2(a, b):\n",
    "    n=len(a)\n",
    "\n",
    "    for k in range (0, n-1, 1):\n",
    "        for i in range (k+1, n, 1):\n",
    "            m=a[i][k]/a[k][k]\n",
    "            a[i][k]=0\n",
    "            for j in range (k+1, n, 1):\n",
    "              a[i][j]=a[i][j]-(m*a[k][j])\n",
    "              b[i]=b[i]-m*b[k]\n",
    "    \n",
    "    return a1, b1\n",
    "                \n",
    "a1=np.array([[2, 1, -3], [-1, 3, 2], [3, 1, -3]])\n",
    "b1=np.array([-1, 12, 0])\n",
    "print('Matriz:\\n', a1)\n",
    "a1, b1=func2(a1, b1)\n",
    "print('Tranformação em Triangular Superior:\\n', a1)\n",
    "print('Solucao: ', func(a1,b1))\n",
    "        "
   ]
  }
 ],
 "metadata": {
  "kernelspec": {
   "display_name": "Python 3",
   "language": "python",
   "name": "python3"
  },
  "language_info": {
   "codemirror_mode": {
    "name": "ipython",
    "version": 3
   },
   "file_extension": ".py",
   "mimetype": "text/x-python",
   "name": "python",
   "nbconvert_exporter": "python",
   "pygments_lexer": "ipython3",
   "version": "3.6.5"
  }
 },
 "nbformat": 4,
 "nbformat_minor": 2
}
